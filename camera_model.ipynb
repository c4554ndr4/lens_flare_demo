{
 "cells": [
  {
   "cell_type": "code",
   "execution_count": 7,
   "metadata": {},
   "outputs": [],
   "source": [
    "import numpy as np"
   ]
  },
  {
   "cell_type": "code",
   "execution_count": 264,
   "metadata": {},
   "outputs": [],
   "source": [
    "def T(d):\n",
    "    return np.matrix([[1, d], [0, 1]])\n",
    "\n",
    "pupil_height=12.3\n",
    "\n",
    "T1 = T(7.700)\n",
    "\n",
    "T2 = T(1.850)\n",
    "\n",
    "T3 = T(3.520)\n",
    "\n",
    "T4 = T(1.850)\n",
    "\n",
    "T5 = T(4.180)\n",
    "\n",
    "# now, we've reached the aperature plane\n",
    "# height = 11.6\n",
    "T6 = T(3.000)\n",
    "\n",
    "T7 = T(1.850)\n",
    "\n",
    "T8 = T(7.270)\n",
    "\n",
    "T9 = T(83.91)\n",
    "# 81.320\n",
    "Ts = [T1, T2, T3, T4, T5, T6, T7, T8, T9]"
   ]
  },
  {
   "cell_type": "code",
   "execution_count": 265,
   "metadata": {},
   "outputs": [
    {
     "name": "stdout",
     "output_type": "stream",
     "text": [
      "[[ 1.          0.        ]\n",
      " [-0.02238388  1.        ]]\n",
      "[[ 1.          0.        ]\n",
      " [-0.02238388  1.        ]]\n"
     ]
    }
   ],
   "source": [
    "red_refr = [1.652, 1.5991, 1, 1.6396, 1, 1, 1.5776, 1.68990, 1] # wavelength = 650  1.6664\n",
    "green_refr = [1.652, 1.6113, 1, 1.65, 1, 1, 1.5885, 1.6999, 1] #510  1.6764\n",
    "blue_refr = [1.652, 1.6164, 1, 1.6542, 1, 1, 1.5930, 1.7040, 1] #475 1.6804\n",
    "\n",
    "curvatures = [1/30.810, 1/-89.350, 1/580.380, 1/-80.630, 1/28.340, 0, 0, 1/32.190, 1/-52.990, 1/81.320]\n",
    "\n",
    "def generate_R(c, n1, n2):\n",
    "    return np.matrix([[1, 0], [c*(n1-n2)/n2, n1/n2]])\n",
    "\n",
    "def create_Rs_for_color(color_refr):\n",
    "    R = []\n",
    "    prev_n = 1.000\n",
    "    for i in range(len(color_refr)):\n",
    "        R.append(generate_R(curvatures[i], prev_n, color_refr[i]))\n",
    "        prev_n = color_refr[i]\n",
    "    return R\n",
    "\n",
    "def generate_L(c):\n",
    "    return np.matrix([[1, 0], [2*c, 1]])\n",
    "\n",
    "def create_Ls():\n",
    "    L = []\n",
    "    for i in range(len(curvatures)):\n",
    "        L.append(generate_L(curvatures[i]))\n",
    "    return L\n",
    "        \n",
    "L = create_Ls()\n",
    "    \n",
    "R_red = creat_Rs_for_color(red_refr)\n",
    "R_green = creat_Rs_for_color(green_refr)\n",
    "R_blue = creat_Rs_for_color(blue_refr)\n",
    "\n",
    "print(L[1])\n",
    "print(np.matrix([[1, 0], [2/-89.350, 1]]))\n",
    "\n",
    "# problems:Lakn7 - keep prev value"
   ]
  },
  {
   "cell_type": "code",
   "execution_count": 301,
   "metadata": {},
   "outputs": [],
   "source": [
    "def trace_ray_auto(r, theta, i, j, color_refr):\n",
    "    \n",
    "    ray = np.array([r, theta]).reshape(1, -1).T\n",
    "    \n",
    "    i, j = min(i, j), max(i, j) \n",
    "    \n",
    "    M = np.identity(2)\n",
    "    \n",
    "    # forward through j-1\n",
    "    for k in range(j):\n",
    "        M = Ts[k].dot(color_refr[k]).dot(M)\n",
    "    \n",
    "    # reflect off of Lj\n",
    "    M = L[j].dot(M)\n",
    "    \n",
    "    # Inverse\n",
    "    for k in range(i+1, j-2, -1):\n",
    "        M = np.linalg.inv(color_refr[k]).dot(Ts[k]).dot(M)\n",
    "    \n",
    "    M = Ts[i].dot(np.linalg.inv(L[i])).dot(Ts[i]).dot(M)\n",
    "\n",
    "    \n",
    "    for k in range(i+1, 9):\n",
    "        if k == 5:\n",
    "            after_ap = M.dot(ray)\n",
    "            if after_ap[0, 0] > 11.6 or after_ap[0, 0] < -11.6:\n",
    "                # recast\n",
    "                print(\"recasting, got aperature radius: \", after_ap[0, 0])\n",
    "                \n",
    "                \n",
    "                r_a = 11.6\n",
    "                if r<0:\n",
    "                    r_a = -11.5\n",
    "                r_e = (r_a - M[0, 1]*theta)/M[0, 0]\n",
    "                print(\"ray we're casting: \", r_e, theta)\n",
    "                # modify ray\n",
    "                ray = np.array([r_e, theta]).reshape(1, -1).T\n",
    "            # crossing the aperture!\n",
    "            M = Ts[k].dot(M)\n",
    "            continue\n",
    "        M = Ts[k].dot(color_refr[k]).dot(M)\n",
    "    \n",
    "    return M.dot(ray)"
   ]
  },
  {
   "cell_type": "code",
   "execution_count": 302,
   "metadata": {},
   "outputs": [],
   "source": [
    "def trace_ray(r, theta, R):\n",
    "    r = np.array([r, theta])\n",
    "\n",
    "    Ma = Ts[4].dot(R[4]).dot(Ts[3]).dot(R[3]).dot(Ts[2]).dot(R[2]).dot(Ts[1]).dot(R[1]).dot(Ts[0]).dot(R[0])\n",
    "    Ms = Ts[8].dot(R[8]).dot(Ts[7]).dot(R[7]).dot(Ts[6]).dot(R[6]).dot(Ts[5])\n",
    "    \n",
    "#     print(\"trace_ray\")\n",
    "#     print(Ma)\n",
    "#     print(Ms)\n",
    "    \n",
    "    return Ms.dot(Ma).dot(r)\n",
    "    \n",
    "def trace_ray_with_ghost(r, theta):\n",
    "    \n",
    "    L4 = L[3]\n",
    "    L2 = L[1]\n",
    "    R3_inv = np.linalg.inv(R3)\n",
    "    L2_inv = np.linalg.inv(L2)\n",
    "    \n",
    "    M1 = T3.dot(R3).dot(T2).dot(R2).dot(T1).dot(R1)\n",
    "    Bounce = T2.dot(L2_inv).dot(T2).dot(R3_inv).dot(T3).dot(L4)\n",
    "    M2 = T5.dot(R5).dot(T4).dot(R4).dot(T3).dot(R3)\n",
    "    Ms = T9.dot(R9).dot(T8).dot(R8).dot(T7).dot(R7).dot(T6)\n",
    "    \n",
    "    Ma = M2.dot(Bounce).dot(M1)\n",
    "    \n",
    "    \n",
    "    # ray at aperature\n",
    "    ray_ap = Ma.dot(np.array([r, theta]))\n",
    "    print(\"ray before recast\", ray_ap) # since it's a 1 by 2 matrix\n",
    "    if ray_ap[0, 0] > 11.6 or ray_ap[0, 0] < -11.6:\n",
    "        # recast\n",
    "        print(\"recasting\")\n",
    "        theta_e = theta\n",
    "        r_a = 11.6\n",
    "        if r<0:\n",
    "            r_a = -11.5\n",
    "        r_e = (r_a - Ma.__getitem__((0,1))*theta_e)/Ma.__getitem__((0,0))\n",
    "        ray = np.array([r_e, theta])\n",
    "        print(\"ray we're casting\", ray)\n",
    "        return Ms.dot(Ma).dot(ray)\n",
    "    return Ms.dot(Ma).dot(np.array([r, theta]))"
   ]
  },
  {
   "cell_type": "code",
   "execution_count": 304,
   "metadata": {},
   "outputs": [
    {
     "name": "stdout",
     "output_type": "stream",
     "text": [
      "[[-3.16489143]\n",
      " [-0.12955141]]\n",
      "[[10.17540939]\n",
      " [ 0.18744361]]\n"
     ]
    }
   ],
   "source": [
    "print(trace_ray_auto(14.5, 0.025, 1, 3, R_red)) # -3.16-10.18 = -13.34\n",
    "print(trace_ray_auto(14.5, 0.025, 1, 3, R_green)) #-2.41-9.45 = -11.6\n",
    "print(trace_ray_auto(14.5, 0.025, 1, 3, R_blue))\n",
    "print(trace_ray_auto(-14.5, 0.025, 1, 3, R_red))\n",
    "print(trace_ray_auto(-14.5, 0.025, 1, 3, R_green))\n",
    "print(trace_ray_auto(-14.5, 0.025, 1, 3, R_blue))\n",
    "print(trace_ray_auto(-14.5, 0.025, 3, 1, R_blue))"
   ]
  },
  {
   "cell_type": "code",
   "execution_count": 306,
   "metadata": {},
   "outputs": [
    {
     "data": {
      "text/plain": [
       "matrix([[ 0.00069748, -0.14750162]])"
      ]
     },
     "execution_count": 306,
     "metadata": {},
     "output_type": "execute_result"
    }
   ],
   "source": [
    "trace_ray(15, 0, R_green) # this lines up at 0 radius # focused on the green wavelength now"
   ]
  },
  {
   "cell_type": "code",
   "execution_count": 273,
   "metadata": {},
   "outputs": [
    {
     "data": {
      "text/plain": [
       "matrix([[ 0.00069748, -0.14750162]])"
      ]
     },
     "execution_count": 273,
     "metadata": {},
     "output_type": "execute_result"
    }
   ],
   "source": []
  },
  {
   "cell_type": "code",
   "execution_count": 151,
   "metadata": {},
   "outputs": [],
   "source": []
  },
  {
   "cell_type": "code",
   "execution_count": 106,
   "metadata": {},
   "outputs": [
    {
     "name": "stdout",
     "output_type": "stream",
     "text": [
      "ray before recast [[8.57311603 0.04778441]]\n",
      "[[ 0.80637476 -0.09885542]]\n",
      "ray before recast [[-5.77394628  0.13695084]]\n",
      "[[12.91711268  0.21463147]]\n"
     ]
    }
   ],
   "source": []
  },
  {
   "cell_type": "code",
   "execution_count": 98,
   "metadata": {},
   "outputs": [
    {
     "name": "stdout",
     "output_type": "stream",
     "text": [
      "11.932119722842128\n",
      "recasting\n",
      "ray we're casting [13.82867985  0.17      ]\n",
      "[[17.55491082  0.04733274]]\n",
      "-2.4149425790923083\n",
      "[[29.38529762  0.35356272]]\n"
     ]
    }
   ],
   "source": []
  },
  {
   "cell_type": "code",
   "execution_count": 73,
   "metadata": {},
   "outputs": [],
   "source": [
    "# part 2\n",
    "\n",
    "# given the two radii, determine the size\n",
    "def size(r1, r2):\n",
    "    diff = abs(r1-r2)\n",
    "    return diff * diff\n",
    "\n",
    "# given radiance of light going in to entrance pupil, the flare intensity is radiance in pupil * flare quad size / entrance pupil size\n",
    "# size matters\n"
   ]
  },
  {
   "cell_type": "code",
   "execution_count": 74,
   "metadata": {},
   "outputs": [
    {
     "data": {
      "text/plain": [
       "0.2849256789264907"
      ]
     },
     "execution_count": 74,
     "metadata": {},
     "output_type": "execute_result"
    }
   ],
   "source": [
    "size(24.78056262, 24.24677832)"
   ]
  },
  {
   "cell_type": "code",
   "execution_count": 75,
   "metadata": {},
   "outputs": [
    {
     "data": {
      "text/plain": [
       "151.29000000000002"
      ]
     },
     "execution_count": 75,
     "metadata": {},
     "output_type": "execute_result"
    }
   ],
   "source": [
    "# sensor plane size\n",
    "12.3 *12.3"
   ]
  },
  {
   "cell_type": "code",
   "execution_count": 307,
   "metadata": {},
   "outputs": [
    {
     "name": "stdout",
     "output_type": "stream",
     "text": [
      "ray before recast [[0.27535484 0.00031   ]]\n",
      "[[-0.08257116 -0.00424719]]\n",
      "ray before recast [[ 0.52271798 -0.00122735]]\n",
      "[[-0.3053758  -0.00965213]]\n"
     ]
    }
   ],
   "source": [
    "# changing radius should ghost linearly\n",
    "print(trace_ray_with_ghost(0.5, 0.001))\n",
    "print(trace_ray_with_ghost(1, 0.001))"
   ]
  },
  {
   "cell_type": "code",
   "execution_count": 308,
   "metadata": {},
   "outputs": [
    {
     "name": "stdout",
     "output_type": "stream",
     "text": [
      "ray before recast [[ 6.11312502 -0.03597151]]\n",
      "[[-5.3407606  -0.13180392]]\n"
     ]
    },
    {
     "ename": "TypeError",
     "evalue": "'list' object is not callable",
     "output_type": "error",
     "traceback": [
      "\u001b[0;31m---------------------------------------------------------------------------\u001b[0m",
      "\u001b[0;31mTypeError\u001b[0m                                 Traceback (most recent call last)",
      "\u001b[0;32m<ipython-input-308-4edfcfeb9dff>\u001b[0m in \u001b[0;36m<module>\u001b[0;34m\u001b[0m\n\u001b[1;32m      1\u001b[0m \u001b[0;31m# different ghosts should have different sizes\u001b[0m\u001b[0;34m\u001b[0m\u001b[0;34m\u001b[0m\u001b[0;34m\u001b[0m\u001b[0m\n\u001b[1;32m      2\u001b[0m \u001b[0mprint\u001b[0m\u001b[0;34m(\u001b[0m\u001b[0mtrace_ray_with_ghost\u001b[0m\u001b[0;34m(\u001b[0m\u001b[0;36m12.3\u001b[0m\u001b[0;34m,\u001b[0m \u001b[0;36m0.001\u001b[0m\u001b[0;34m)\u001b[0m\u001b[0;34m)\u001b[0m\u001b[0;34m\u001b[0m\u001b[0;34m\u001b[0m\u001b[0m\n\u001b[0;32m----> 3\u001b[0;31m \u001b[0mprint\u001b[0m\u001b[0;34m(\u001b[0m\u001b[0mtrace_ray_with_ghost_2\u001b[0m\u001b[0;34m(\u001b[0m\u001b[0;36m12.3\u001b[0m\u001b[0;34m,\u001b[0m \u001b[0;36m0.001\u001b[0m\u001b[0;34m)\u001b[0m\u001b[0;34m)\u001b[0m\u001b[0;34m\u001b[0m\u001b[0;34m\u001b[0m\u001b[0m\n\u001b[0m\u001b[1;32m      4\u001b[0m \u001b[0;34m\u001b[0m\u001b[0m\n\u001b[1;32m      5\u001b[0m \u001b[0;31m# but why so big??\u001b[0m\u001b[0;34m\u001b[0m\u001b[0;34m\u001b[0m\u001b[0;34m\u001b[0m\u001b[0m\n",
      "\u001b[0;32m<ipython-input-84-827ce76b9fa3>\u001b[0m in \u001b[0;36mtrace_ray_with_ghost_2\u001b[0;34m(r, theta)\u001b[0m\n\u001b[1;32m    106\u001b[0m \u001b[0;32mdef\u001b[0m \u001b[0mtrace_ray_with_ghost_2\u001b[0m\u001b[0;34m(\u001b[0m\u001b[0mr\u001b[0m\u001b[0;34m,\u001b[0m \u001b[0mtheta\u001b[0m\u001b[0;34m)\u001b[0m\u001b[0;34m:\u001b[0m\u001b[0;34m\u001b[0m\u001b[0;34m\u001b[0m\u001b[0m\n\u001b[1;32m    107\u001b[0m \u001b[0;34m\u001b[0m\u001b[0m\n\u001b[0;32m--> 108\u001b[0;31m     \u001b[0mL4\u001b[0m \u001b[0;34m=\u001b[0m \u001b[0mL\u001b[0m\u001b[0;34m(\u001b[0m\u001b[0;34m-\u001b[0m\u001b[0;36m80.630\u001b[0m\u001b[0;34m)\u001b[0m\u001b[0;34m\u001b[0m\u001b[0;34m\u001b[0m\u001b[0m\n\u001b[0m\u001b[1;32m    109\u001b[0m     \u001b[0mL1\u001b[0m \u001b[0;34m=\u001b[0m \u001b[0mL\u001b[0m\u001b[0;34m(\u001b[0m\u001b[0;36m30.810\u001b[0m\u001b[0;34m)\u001b[0m\u001b[0;34m\u001b[0m\u001b[0;34m\u001b[0m\u001b[0m\n\u001b[1;32m    110\u001b[0m     \u001b[0mR3_inv\u001b[0m \u001b[0;34m=\u001b[0m \u001b[0mnp\u001b[0m\u001b[0;34m.\u001b[0m\u001b[0mlinalg\u001b[0m\u001b[0;34m.\u001b[0m\u001b[0minv\u001b[0m\u001b[0;34m(\u001b[0m\u001b[0mR3\u001b[0m\u001b[0;34m)\u001b[0m\u001b[0;34m\u001b[0m\u001b[0;34m\u001b[0m\u001b[0m\n",
      "\u001b[0;31mTypeError\u001b[0m: 'list' object is not callable"
     ]
    }
   ],
   "source": [
    "# different ghosts should have different sizes\n"
   ]
  },
  {
   "cell_type": "code",
   "execution_count": 178,
   "metadata": {},
   "outputs": [
    {
     "name": "stdout",
     "output_type": "stream",
     "text": [
      "[[-32300.86635261   -305.01473834]]\n",
      "[[-32634.05130402   -308.1609856 ]]\n",
      "[[-32967.23625542   -311.30723285]]\n"
     ]
    }
   ],
   "source": [
    "# changing theta\n",
    "print(trace_ray_with_ghost_2(12.3, 0.01))\n",
    "print(trace_ray_with_ghost_2(12.3, 0.02))\n",
    "print(trace_ray_with_ghost_2(12.3, 0.03))\n",
    "\n",
    "\n",
    "# radius always gets bigger with bigger theta... \n",
    "# so if the sun is further away from the center, there's bigger lens flares? \n",
    "# not sure this is true"
   ]
  },
  {
   "cell_type": "code",
   "execution_count": null,
   "metadata": {},
   "outputs": [],
   "source": []
  },
  {
   "cell_type": "code",
   "execution_count": null,
   "metadata": {},
   "outputs": [],
   "source": []
  },
  {
   "cell_type": "code",
   "execution_count": null,
   "metadata": {},
   "outputs": [],
   "source": []
  }
 ],
 "metadata": {
  "kernelspec": {
   "display_name": "Python 3",
   "language": "python",
   "name": "python3"
  },
  "language_info": {
   "codemirror_mode": {
    "name": "ipython",
    "version": 3
   },
   "file_extension": ".py",
   "mimetype": "text/x-python",
   "name": "python",
   "nbconvert_exporter": "python",
   "pygments_lexer": "ipython3",
   "version": "3.8.0"
  }
 },
 "nbformat": 4,
 "nbformat_minor": 4
}
