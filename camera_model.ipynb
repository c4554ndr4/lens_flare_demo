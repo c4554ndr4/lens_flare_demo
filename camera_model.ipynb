{
 "cells": [
  {
   "cell_type": "code",
   "execution_count": 171,
   "metadata": {},
   "outputs": [],
   "source": [
    "import numpy as np"
   ]
  },
  {
   "cell_type": "code",
   "execution_count": 172,
   "metadata": {},
   "outputs": [],
   "source": [
    "\n",
    "# trace ray with no reflection \n",
    "# different r should give the same value as long as the sensor plane is at the focus point for the lens\n",
    "# different theta should change it linearly\n",
    "\n",
    "# ideas: keep this part in python and integrate w/ cpp?\n",
    "\n",
    "def T(d):\n",
    "    return np.matrix([[1, d], [0, 1]])\n",
    "    \n",
    "def R(ri, n1, n2):\n",
    "    return np.matrix([[1, 0], [(n1-n2)/(n2*ri), n1/n2]])\n",
    "    \n",
    "def L(ri):\n",
    "    return np.matrix([[1, 0], [2/ri, 1]])\n",
    "\n",
    "pupil_height=12.3\n",
    "\n",
    "R1 = R(30.810, 1.000, 1.652)\n",
    "T1 = T(7.700)\n",
    "R2 = R(-89.350, 1.652, 1.603)\n",
    "T2 = T(1.850)\n",
    "R3 = R(580.380, 1.603, 1.000)\n",
    "T3 = T(3.520)\n",
    "R4 = R(-80.630, 1.000, 1.643)\n",
    "T4 = T(1.850)\n",
    "R5 = R(28.340, 1.643, 1.000)\n",
    "T5 = T(4.180)\n",
    "\n",
    "# now, we've reached the aperature plane\n",
    "# height = 11.6\n",
    "T6 = T(3.000)\n",
    "\n",
    "R7 = np.matrix([[1, 0], [0, 1.000/1.581]])\n",
    "T7 = T(1.850)\n",
    "R8 = R(32.190, 1.581, 1.694)\n",
    "T8 = T(7.270)\n",
    "R9 = R(-52.990, 1.694, 1)\n",
    "#T9 = T(81.857)\n",
    "T9 = T(81.320)\n",
    "\n",
    "def trace_ray(r, theta):\n",
    "    r = np.array([r, theta])\n",
    "\n",
    "    Ma = T5.dot(R5).dot(T4).dot(R4).dot(T3).dot(R3).dot(T2).dot(R2).dot(T1).dot(R1)\n",
    "    Ms = T9.dot(R9).dot(T8).dot(R8).dot(T7).dot(R7).dot(T6)\n",
    "    \n",
    "    return Ms.dot(Ma).dot(r)\n",
    "    \n",
    "def trace_ray_with_ghost(r, theta):\n",
    "    r = np.array([r, theta])\n",
    "    \n",
    "    L4 = L(1.643)\n",
    "    L2 = L(1.603)\n",
    "    R3_inv = np.linalg.inv(R3)\n",
    "    L2_inv = np.linalg.inv(L2)\n",
    " \n",
    "\n",
    "    M1 = T3.dot(R3).dot(T2).dot(R2).dot(T1).dot(R1)\n",
    "    Bounce = T2.dot(L2_inv).dot(T2).dot(R3_inv).dot(T3).dot(L4)\n",
    "    M2 = T5.dot(R5).dot(T4).dot(R4).dot(T3).dot(R3)\n",
    "    Ms = T9.dot(R9).dot(T8).dot(R8).dot(T7).dot(R7).dot(T6)\n",
    "    \n",
    "    return Ms.dot(M2).dot(Bounce).dot(M1).dot(r)\n",
    "\n",
    "def trace_ray_with_ghost_2(r, theta):\n",
    "    r = np.array([r, theta])\n",
    "    \n",
    "    L4 = L(1.643)\n",
    "    L1 = L(1.652)\n",
    "    R3_inv = np.linalg.inv(R3)\n",
    "    L1_inv = np.linalg.inv(L1)\n",
    "    R2_inv = np.linalg.inv(R2)\n",
    " \n",
    "\n",
    "    M1 = T3.dot(R3).dot(T2).dot(R2).dot(T1).dot(R1)\n",
    "    Bounce = T2.dot(L1_inv).dot(T1).dot(R2_inv).dot(T2).dot(R3_inv).dot(T3).dot(L4)\n",
    "    M2 = T5.dot(R5).dot(T4).dot(R4).dot(T3).dot(R3).dot(T2).dot(R3)\n",
    "    Ms = T9.dot(R9).dot(T8).dot(R8).dot(T7).dot(R7).dot(T6)\n",
    "    \n",
    "    return Ms.dot(M2).dot(Bounce).dot(M1).dot(r)"
   ]
  },
  {
   "cell_type": "code",
   "execution_count": 173,
   "metadata": {},
   "outputs": [],
   "source": [
    "# 0.17 is the max radians since we use small angle approximations\n",
    "# r should we 12.3 since that's the height of the entrance pupil.\n"
   ]
  },
  {
   "cell_type": "code",
   "execution_count": 174,
   "metadata": {},
   "outputs": [
    {
     "name": "stdout",
     "output_type": "stream",
     "text": [
      "[[ 9.92340672 -0.03497702]]\n",
      "[[9.92396965 0.07889318]]\n"
     ]
    }
   ],
   "source": [
    "# varying r gives us the same thing approximately\n",
    "print(trace_ray(12.3, 0.1))\n",
    "print(trace_ray(1, 0.1))\n"
   ]
  },
  {
   "cell_type": "code",
   "execution_count": 175,
   "metadata": {},
   "outputs": [
    {
     "name": "stdout",
     "output_type": "stream",
     "text": [
      "[[49.61984825  0.39446591]]\n",
      "[[9.92377038 0.03858515]]\n"
     ]
    }
   ],
   "source": [
    "# varying theta changes r_out linearly\n",
    "# theta_out shouldn't be the same\n",
    "print(trace_ray(5, 0.5))\n",
    "print(trace_ray(5, 0.1))"
   ]
  },
  {
   "cell_type": "code",
   "execution_count": 176,
   "metadata": {},
   "outputs": [
    {
     "name": "stdout",
     "output_type": "stream",
     "text": [
      "[[-434.08824529   -4.14980023]]\n",
      "[[-857.4118636    -8.19669154]]\n"
     ]
    }
   ],
   "source": [
    "# changing radius should ghost linearly\n",
    "print(trace_ray_with_ghost(0.5, 0.001))\n",
    "print(trace_ray_with_ghost(1, 0.001))"
   ]
  },
  {
   "cell_type": "code",
   "execution_count": 177,
   "metadata": {},
   "outputs": [
    {
     "name": "stdout",
     "output_type": "stream",
     "text": [
      "[[-10424.52563746    -99.65643518]]\n",
      "[[-32000.99989635   -302.18311581]]\n"
     ]
    }
   ],
   "source": [
    "# different ghosts should have different sizes\n",
    "print(trace_ray_with_ghost(12.3, 0.001))\n",
    "print(trace_ray_with_ghost_2(12.3, 0.001))\n",
    "\n",
    "# but why so big??"
   ]
  },
  {
   "cell_type": "code",
   "execution_count": 178,
   "metadata": {},
   "outputs": [
    {
     "name": "stdout",
     "output_type": "stream",
     "text": [
      "[[-32300.86635261   -305.01473834]]\n",
      "[[-32634.05130402   -308.1609856 ]]\n",
      "[[-32967.23625542   -311.30723285]]\n"
     ]
    }
   ],
   "source": [
    "# changing theta\n",
    "print(trace_ray_with_ghost_2(12.3, 0.01))\n",
    "print(trace_ray_with_ghost_2(12.3, 0.02))\n",
    "print(trace_ray_with_ghost_2(12.3, 0.03))\n",
    "\n",
    "\n",
    "# radius always gets bigger with bigger theta... \n",
    "# so if the sun is further away from the center, there's bigger lens flares? \n",
    "# not sure this is true"
   ]
  },
  {
   "cell_type": "code",
   "execution_count": null,
   "metadata": {},
   "outputs": [],
   "source": []
  },
  {
   "cell_type": "code",
   "execution_count": null,
   "metadata": {},
   "outputs": [],
   "source": []
  },
  {
   "cell_type": "code",
   "execution_count": null,
   "metadata": {},
   "outputs": [],
   "source": []
  }
 ],
 "metadata": {
  "kernelspec": {
   "display_name": "Python 3",
   "language": "python",
   "name": "python3"
  },
  "language_info": {
   "codemirror_mode": {
    "name": "ipython",
    "version": 3
   },
   "file_extension": ".py",
   "mimetype": "text/x-python",
   "name": "python",
   "nbconvert_exporter": "python",
   "pygments_lexer": "ipython3",
   "version": "3.8.0"
  }
 },
 "nbformat": 4,
 "nbformat_minor": 4
}
