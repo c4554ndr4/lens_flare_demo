{
 "cells": [
  {
   "cell_type": "code",
   "execution_count": 25,
   "metadata": {},
   "outputs": [],
   "source": [
    "import numpy as np"
   ]
  },
  {
   "cell_type": "code",
   "execution_count": 45,
   "metadata": {},
   "outputs": [],
   "source": [
    "\n",
    "# trace ray with no reflection \n",
    "# different r should give the same value as long as the sensor plane is at the focus point for the lens\n",
    "# different theta should change it linearly\n",
    "\n",
    "# ideas: keep this part in python and integrate w/ cpp?\n",
    "\n",
    "def T(d):\n",
    "    return np.matrix([[1, d], [0, 1]])\n",
    "    \n",
    "def R(ri, n1, n2):\n",
    "    return np.matrix([[1, 0], [(n1-n2)/(n2*ri), n1/n2]])\n",
    "    \n",
    "def L(ri):\n",
    "    return np.matrix([[1, 0], [2/ri, 1]])\n",
    "\n",
    "pupil_height=12.3\n",
    "\n",
    "R1 = R(30.810, 1.000, 1.652)\n",
    "T1 = T(7.700)\n",
    "R2 = R(-89.350, 1.652, 1.603)\n",
    "T2 = T(1.850)\n",
    "R3 = R(580.380, 1.603, 1.000)\n",
    "T3 = T(3.520)\n",
    "R4 = R(-80.630, 1.000, 1.643)\n",
    "T4 = T(1.850)\n",
    "R5 = R(28.340, 1.643, 1.000)\n",
    "T5 = T(4.180)\n",
    "\n",
    "# now, we've reached the aperature plane\n",
    "# height = 11.6\n",
    "T6 = T(3.000)\n",
    "\n",
    "R7 = np.matrix([[1, 0], [0, 1.000/1.581]])\n",
    "T7 = T(1.850)\n",
    "R8 = R(32.190, 1.581, 1.694)\n",
    "T8 = T(7.270)\n",
    "R9 = R(-52.990, 1.694, 1)\n",
    "#T9 = T(81.857)\n",
    "T9 = T(81.320)\n",
    "\n",
    "def trace_ray(r, theta):\n",
    "    r = np.array([r, theta])\n",
    "\n",
    "    Ma = T5.dot(R5).dot(T4).dot(R4).dot(T3).dot(R3).dot(T2).dot(R2).dot(T1).dot(R1)\n",
    "    Ms = T9.dot(R9).dot(T8).dot(R8).dot(T7).dot(R7).dot(T6)\n",
    "    \n",
    "    print(\"trace_ray\")\n",
    "    print(Ma)\n",
    "    print(Ms)\n",
    "    \n",
    "    return Ms.dot(Ma).dot(r)\n",
    "    \n",
    "def trace_ray_with_ghost(r, theta):\n",
    "    \n",
    "    L4 = L(1.643)\n",
    "    L2 = L(1.603)\n",
    "    R3_inv = np.linalg.inv(R3)\n",
    "    L2_inv = np.linalg.inv(L2)\n",
    "    \n",
    "    M1 = T3.dot(R3).dot(T2).dot(R2).dot(T1).dot(R1)\n",
    "    Bounce = T2.dot(L2_inv).dot(T2).dot(R3_inv).dot(T3).dot(L4)\n",
    "    M2 = T5.dot(R5).dot(T4).dot(R4).dot(T3).dot(R3)\n",
    "    Ms = T9.dot(R9).dot(T8).dot(R8).dot(T7).dot(R7).dot(T6)\n",
    "    \n",
    "    Ma = M2.dot(Bounce).dot(M1)\n",
    "    \n",
    "    theta_e = theta\n",
    "    r_a = 11.6\n",
    "    r_e = (r_a - Ma.__getitem__((0,1))*theta_e)/Ma.__getitem__((0,0))\n",
    "    print(\"r_e\", r_e)\n",
    "    \n",
    "    print(\"ghost\")\n",
    "    print(\"R3_inv\", L4, L2, R3_inv, L2_inv, T3, T2, R2, T1, R1)\n",
    "    print(\"next line\", T2, L2_inv, T2, R3_inv, T3, L4)\n",
    "    print(\"test\", T5, R5, T4, R4, T3, R3)\n",
    "    print(\"L2_inv\", L2_inv)\n",
    "#     print(\"big ones\", Ma, M2, M1, Bounce)\n",
    "#     print(Ms)\n",
    "#     print(Ms.dot(Ma))\n",
    "    print(\"Ma:\", Ma)\n",
    "    print(\"bounce\", Bounce)\n",
    "\n",
    "    print(\"Before bounce\", M1)\n",
    "    print(\"after bounce\", M2)\n",
    "    ray = np.array([r_e, theta])\n",
    "    \n",
    "    print(\"at aperature\", Ma.dot(ray))\n",
    "    \n",
    "    print(\"ray after first matrix\", M1.dot(ray))\n",
    "    print(\"ray after bounce\", Bounce.dot(M1).dot(ray))\n",
    "    print(\"ray after third matrix\", M2.dot(Bounce).dot(M1).dot(ray))\n",
    "    \n",
    "    return Ms.dot(Ma).dot(ray)\n",
    "\n",
    "# def trace_ray_with_ghost_2(r, theta):\n",
    "    \n",
    "#     L4 = L(1.643)\n",
    "#     L1 = L(1.652)\n",
    "#     R3_inv = np.linalg.inv(R3)\n",
    "#     L1_inv = np.linalg.inv(L1)\n",
    "#     R2_inv = np.linalg.inv(R2)\n",
    "    \n",
    "#     M1 = T3.dot(R3).dot(T2).dot(R2).dot(T1).dot(R1)\n",
    "#     Bounce = T2.dot(L1_inv).dot(T1).dot(R2_inv).dot(T2).dot(R3_inv).dot(T3).dot(L4)\n",
    "#     M2 = T5.dot(R5).dot(T4).dot(R4).dot(T3).dot(R3).dot(T2).dot(R3)\n",
    "#     Ms = T9.dot(R9).dot(T8).dot(R8).dot(T7).dot(R7).dot(T6)\n",
    "    \n",
    "#     Ma = M2.dot(Bounce).dot(M1)\n",
    "    \n",
    "#     theta_e = theta\n",
    "#     r_a = 11.6\n",
    "#     r_e = (r_a - Ma.__getitem__((0,1))*theta_e)/Ma.__getitem__((0,0))\n",
    "    \n",
    "#     print(r_e)\n",
    "#     print(Ma)\n",
    "#     print(Ms)\n",
    "#     print(Ms.dot(Ma))\n",
    "    \n",
    "#     ray = np.array([r_e, theta])\n",
    "#     #ray = np.array([r, theta])\n",
    " \n",
    "    \n",
    "#     return Ms.dot(Ma).dot(ray)"
   ]
  },
  {
   "cell_type": "code",
   "execution_count": 46,
   "metadata": {},
   "outputs": [
    {
     "name": "stdout",
     "output_type": "stream",
     "text": [
      "r_e -0.1195972080348163\n",
      "ghost\n",
      "R3_inv [[1.         0.        ]\n",
      " [1.21728545 1.        ]] [[1.         0.        ]\n",
      " [1.24766064 1.        ]] [[ 1.00000000e+00  0.00000000e+00]\n",
      " [-6.48143771e-04  6.23830318e-01]] [[ 1.          0.        ]\n",
      " [-1.24766064  1.        ]] [[1.   3.52]\n",
      " [0.   1.  ]] [[1.   1.85]\n",
      " [0.   1.  ]] [[ 1.00000000e+00  0.00000000e+00]\n",
      " [-3.42111758e-04  1.03056769e+00]] [[1.  7.7]\n",
      " [0.  1. ]] [[ 1.          0.        ]\n",
      " [-0.0128099   0.60532688]]\n",
      "next line [[1.   1.85]\n",
      " [0.   1.  ]] [[ 1.          0.        ]\n",
      " [-1.24766064  1.        ]] [[1.   1.85]\n",
      " [0.   1.  ]] [[ 1.00000000e+00  0.00000000e+00]\n",
      " [-6.48143771e-04  6.23830318e-01]] [[1.   3.52]\n",
      " [0.   1.  ]] [[1.         0.        ]\n",
      " [1.21728545 1.        ]]\n",
      "test [[1.   4.18]\n",
      " [0.   1.  ]] [[1.         0.        ]\n",
      " [0.02268878 1.643     ]] [[1.   1.85]\n",
      " [0.   1.  ]] [[1.         0.        ]\n",
      " [0.00485374 0.60864273]] [[1.   3.52]\n",
      " [0.   1.  ]] [[1.00000000e+00 0.00000000e+00]\n",
      " [1.03897447e-03 1.60300000e+00]]\n",
      "L2_inv [[ 1.          0.        ]\n",
      " [-1.24766064  1.        ]]\n",
      "Ma: [[  -96.99223076 -1233.10577945]\n",
      " [  -11.06447248  -140.67791677]]\n",
      "bounce [[-7.34447044 -4.95912258]\n",
      " [-7.58261112 -5.20485835]]\n",
      "Before bounce [[ 0.80334551  9.34441163]\n",
      " [-0.02074575  1.00348255]]\n",
      "after bounce [[ 1.14779    15.09793916]\n",
      " [ 0.03204562  1.81812244]]\n",
      "at aperature [[11.6         1.32328002]]\n",
      "ray after first matrix [[-0.09607788  0.00248113]]\n",
      "ray after bounce [[0.69333691 0.71560726]]\n",
      "ray after third matrix [[11.6         1.32328002]]\n",
      "[[101.25664569   0.9679938 ]]\n"
     ]
    }
   ],
   "source": [
    "# print(trace_ray(1, 0.1))\n",
    "print(trace_ray_with_ghost(12.1, 0))\n",
    "#print(trace_ray_with_ghost(12.1, 0.1))\n",
    "\n",
    "# print(trace_ray_with_ghost(12.1, 0.17))"
   ]
  },
  {
   "cell_type": "code",
   "execution_count": 18,
   "metadata": {},
   "outputs": [],
   "source": [
    "# 0.17 is the max radians since we use small angle approximations\n",
    "# r should we 12.3 since that's the height of the entrance pupil.\n"
   ]
  },
  {
   "cell_type": "code",
   "execution_count": 19,
   "metadata": {},
   "outputs": [
    {
     "name": "stdout",
     "output_type": "stream",
     "text": [
      "[[-0.00061274 -0.12394721]]\n",
      "[[-4.98164821e-05 -1.00770089e-02]]\n"
     ]
    }
   ],
   "source": [
    "# varying r gives us the same thing approximately\n",
    "print(trace_ray(12.3, 0))\n",
    "print(trace_ray(1, 0))\n"
   ]
  },
  {
   "cell_type": "code",
   "execution_count": 20,
   "metadata": {},
   "outputs": [
    {
     "name": "stdout",
     "output_type": "stream",
     "text": [
      "[[49.61984825  0.39446591]]\n",
      "[[9.92377038 0.03858515]]\n"
     ]
    }
   ],
   "source": [
    "# varying theta changes r_out linearly\n",
    "# theta_out shouldn't be the same\n",
    "print(trace_ray(5, 0.5))\n",
    "print(trace_ray(5, 0.1))"
   ]
  },
  {
   "cell_type": "code",
   "execution_count": 21,
   "metadata": {},
   "outputs": [
    {
     "ename": "IndexError",
     "evalue": "index 1 is out of bounds for axis 0 with size 1",
     "output_type": "error",
     "traceback": [
      "\u001b[0;31m---------------------------------------------------------------------------\u001b[0m",
      "\u001b[0;31mIndexError\u001b[0m                                Traceback (most recent call last)",
      "\u001b[0;32m<ipython-input-21-c5a5b6aeed4e>\u001b[0m in \u001b[0;36m<module>\u001b[0;34m\u001b[0m\n\u001b[1;32m      1\u001b[0m \u001b[0;31m# changing radius should ghost linearly\u001b[0m\u001b[0;34m\u001b[0m\u001b[0;34m\u001b[0m\u001b[0;34m\u001b[0m\u001b[0m\n\u001b[0;32m----> 2\u001b[0;31m \u001b[0mprint\u001b[0m\u001b[0;34m(\u001b[0m\u001b[0mtrace_ray_with_ghost\u001b[0m\u001b[0;34m(\u001b[0m\u001b[0;36m0.5\u001b[0m\u001b[0;34m,\u001b[0m \u001b[0;36m0.001\u001b[0m\u001b[0;34m)\u001b[0m\u001b[0;34m)\u001b[0m\u001b[0;34m\u001b[0m\u001b[0;34m\u001b[0m\u001b[0m\n\u001b[0m\u001b[1;32m      3\u001b[0m \u001b[0mprint\u001b[0m\u001b[0;34m(\u001b[0m\u001b[0mtrace_ray_with_ghost\u001b[0m\u001b[0;34m(\u001b[0m\u001b[0;36m1\u001b[0m\u001b[0;34m,\u001b[0m \u001b[0;36m0.001\u001b[0m\u001b[0;34m)\u001b[0m\u001b[0;34m)\u001b[0m\u001b[0;34m\u001b[0m\u001b[0;34m\u001b[0m\u001b[0m\n",
      "\u001b[0;32m<ipython-input-17-ff95afd05324>\u001b[0m in \u001b[0;36mtrace_ray_with_ghost\u001b[0;34m(r, theta)\u001b[0m\n\u001b[1;32m     64\u001b[0m     \u001b[0mtheta_e\u001b[0m \u001b[0;34m=\u001b[0m \u001b[0mtheta\u001b[0m\u001b[0;34m\u001b[0m\u001b[0;34m\u001b[0m\u001b[0m\n\u001b[1;32m     65\u001b[0m     \u001b[0mr_a\u001b[0m \u001b[0;34m=\u001b[0m \u001b[0;36m11.6\u001b[0m\u001b[0;34m\u001b[0m\u001b[0;34m\u001b[0m\u001b[0m\n\u001b[0;32m---> 66\u001b[0;31m     \u001b[0mr_e\u001b[0m \u001b[0;34m=\u001b[0m \u001b[0;34m(\u001b[0m\u001b[0mr_a\u001b[0m \u001b[0;34m-\u001b[0m \u001b[0mMa\u001b[0m\u001b[0;34m[\u001b[0m\u001b[0;36m0\u001b[0m\u001b[0;34m]\u001b[0m\u001b[0;34m[\u001b[0m\u001b[0;36m1\u001b[0m\u001b[0;34m]\u001b[0m\u001b[0;34m*\u001b[0m\u001b[0mtheta_e\u001b[0m\u001b[0;34m)\u001b[0m\u001b[0;34m/\u001b[0m\u001b[0mM\u001b[0m\u001b[0;34m[\u001b[0m\u001b[0;36m0\u001b[0m\u001b[0;34m]\u001b[0m\u001b[0;34m[\u001b[0m\u001b[0;36m0\u001b[0m\u001b[0;34m]\u001b[0m\u001b[0;34m\u001b[0m\u001b[0;34m\u001b[0m\u001b[0m\n\u001b[0m\u001b[1;32m     67\u001b[0m \u001b[0;34m\u001b[0m\u001b[0m\n\u001b[1;32m     68\u001b[0m     \u001b[0mray\u001b[0m \u001b[0;34m=\u001b[0m \u001b[0mnp\u001b[0m\u001b[0;34m.\u001b[0m\u001b[0marray\u001b[0m\u001b[0;34m(\u001b[0m\u001b[0;34m[\u001b[0m\u001b[0mr_e\u001b[0m\u001b[0;34m,\u001b[0m \u001b[0mtheta\u001b[0m\u001b[0;34m]\u001b[0m\u001b[0;34m)\u001b[0m\u001b[0;34m\u001b[0m\u001b[0;34m\u001b[0m\u001b[0m\n",
      "\u001b[0;32m~/.pyenv/versions/3.8.0/lib/python3.8/site-packages/numpy/matrixlib/defmatrix.py\u001b[0m in \u001b[0;36m__getitem__\u001b[0;34m(self, index)\u001b[0m\n\u001b[1;32m    193\u001b[0m \u001b[0;34m\u001b[0m\u001b[0m\n\u001b[1;32m    194\u001b[0m         \u001b[0;32mtry\u001b[0m\u001b[0;34m:\u001b[0m\u001b[0;34m\u001b[0m\u001b[0;34m\u001b[0m\u001b[0m\n\u001b[0;32m--> 195\u001b[0;31m             \u001b[0mout\u001b[0m \u001b[0;34m=\u001b[0m \u001b[0mN\u001b[0m\u001b[0;34m.\u001b[0m\u001b[0mndarray\u001b[0m\u001b[0;34m.\u001b[0m\u001b[0m__getitem__\u001b[0m\u001b[0;34m(\u001b[0m\u001b[0mself\u001b[0m\u001b[0;34m,\u001b[0m \u001b[0mindex\u001b[0m\u001b[0;34m)\u001b[0m\u001b[0;34m\u001b[0m\u001b[0;34m\u001b[0m\u001b[0m\n\u001b[0m\u001b[1;32m    196\u001b[0m         \u001b[0;32mfinally\u001b[0m\u001b[0;34m:\u001b[0m\u001b[0;34m\u001b[0m\u001b[0;34m\u001b[0m\u001b[0m\n\u001b[1;32m    197\u001b[0m             \u001b[0mself\u001b[0m\u001b[0;34m.\u001b[0m\u001b[0m_getitem\u001b[0m \u001b[0;34m=\u001b[0m \u001b[0;32mFalse\u001b[0m\u001b[0;34m\u001b[0m\u001b[0;34m\u001b[0m\u001b[0m\n",
      "\u001b[0;31mIndexError\u001b[0m: index 1 is out of bounds for axis 0 with size 1"
     ]
    }
   ],
   "source": [
    "# changing radius should ghost linearly\n",
    "print(trace_ray_with_ghost(0.5, 0.001))\n",
    "print(trace_ray_with_ghost(1, 0.001))"
   ]
  },
  {
   "cell_type": "code",
   "execution_count": 177,
   "metadata": {},
   "outputs": [
    {
     "name": "stdout",
     "output_type": "stream",
     "text": [
      "[[-10424.52563746    -99.65643518]]\n",
      "[[-32000.99989635   -302.18311581]]\n"
     ]
    }
   ],
   "source": [
    "# different ghosts should have different sizes\n",
    "print(trace_ray_with_ghost(12.3, 0.001))\n",
    "print(trace_ray_with_ghost_2(12.3, 0.001))\n",
    "\n",
    "# but why so big??"
   ]
  },
  {
   "cell_type": "code",
   "execution_count": 178,
   "metadata": {},
   "outputs": [
    {
     "name": "stdout",
     "output_type": "stream",
     "text": [
      "[[-32300.86635261   -305.01473834]]\n",
      "[[-32634.05130402   -308.1609856 ]]\n",
      "[[-32967.23625542   -311.30723285]]\n"
     ]
    }
   ],
   "source": [
    "# changing theta\n",
    "print(trace_ray_with_ghost_2(12.3, 0.01))\n",
    "print(trace_ray_with_ghost_2(12.3, 0.02))\n",
    "print(trace_ray_with_ghost_2(12.3, 0.03))\n",
    "\n",
    "\n",
    "# radius always gets bigger with bigger theta... \n",
    "# so if the sun is further away from the center, there's bigger lens flares? \n",
    "# not sure this is true"
   ]
  },
  {
   "cell_type": "code",
   "execution_count": null,
   "metadata": {},
   "outputs": [],
   "source": []
  },
  {
   "cell_type": "code",
   "execution_count": null,
   "metadata": {},
   "outputs": [],
   "source": []
  },
  {
   "cell_type": "code",
   "execution_count": null,
   "metadata": {},
   "outputs": [],
   "source": []
  }
 ],
 "metadata": {
  "kernelspec": {
   "display_name": "Python 3",
   "language": "python",
   "name": "python3"
  },
  "language_info": {
   "codemirror_mode": {
    "name": "ipython",
    "version": 3
   },
   "file_extension": ".py",
   "mimetype": "text/x-python",
   "name": "python",
   "nbconvert_exporter": "python",
   "pygments_lexer": "ipython3",
   "version": "3.8.0"
  }
 },
 "nbformat": 4,
 "nbformat_minor": 4
}
